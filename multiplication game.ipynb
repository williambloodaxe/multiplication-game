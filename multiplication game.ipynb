{
 "cells": [
  {
   "cell_type": "code",
   "execution_count": 15,
   "metadata": {},
   "outputs": [
    {
     "name": "stdout",
     "output_type": "stream",
     "text": [
      "How many questions? 5\n",
      "Timer? Y/n :Y\n",
      "1) 5 x 3 = 15\n",
      "yay! correct\n",
      "2) 5 x 0 = 0\n",
      "yay! correct\n",
      "3) 5 x 10 = 50\n",
      "yay! correct\n",
      "4) 5 x 2 = 10\n",
      "yay! correct\n",
      "5) 5 x 7 = 35\n",
      "yay! correct\n",
      "That took 20.13 seconds.\n",
      "Average speed of 4.03 seconds per question\n"
     ]
    }
   ],
   "source": [
    "var0 = 1\n",
    "var1 = 0\n",
    "var2 = 0\n",
    "var3 = int(input(\"How many questions? \"))\n",
    "var4 = 0\n",
    "var5 = 0\n",
    "var6 = 0\n",
    "import time           # downloading libraries\n",
    "import random\n",
    "if input(\"Timer? Y/n :\") != \"n\":      # asks whether you want the timer   \n",
    "    var5 = 1\n",
    "    start = time.time()\n",
    "for x in range(var3):\n",
    "    var1 = random.randint(0,12)       #generates a random number between 1 and 12\n",
    "    var2 = int(input(str(var0) + \") 5 x \" + str(var1) + \" = \"))   # asks 'question no.') 5x 'random 1-12' =\n",
    "    if var2 == 5*var1:         #if your answer is correct...\n",
    "        print (\"yay! correct\")     #... print\n",
    "    else:\n",
    "        var6 += 3\n",
    "        print(\"try again\")         #if not, do it again\n",
    "        var2 = 0    \n",
    "        var2 = int(input(str(var0) + \") 5 x \" + str(var1) + \" = \"))\n",
    "        if var2 == 5*var1:\n",
    "            print (\"yay! correct\")\n",
    "        else:\n",
    "            var6 += 5\n",
    "            \n",
    "    var0 += 1\n",
    "if var5 == 1:\n",
    "    end = time.time()\n",
    "    var4 = round((end - start) + var6,2)                                                      # controls the timer output\n",
    "    print (\"That took \" + str(var4) + \" seconds.\")                                   # controls the timer output\n",
    "    print (\"Average speed of \" + str(round(var4/var3,2)) + \" seconds per question\")  # controls the timer output"
   ]
  }
 ],
 "metadata": {
  "kernelspec": {
   "display_name": "Python 3",
   "language": "python",
   "name": "python3"
  },
  "language_info": {
   "codemirror_mode": {
    "name": "ipython",
    "version": 3
   },
   "file_extension": ".py",
   "mimetype": "text/x-python",
   "name": "python",
   "nbconvert_exporter": "python",
   "pygments_lexer": "ipython3",
   "version": "3.4.3"
  }
 },
 "nbformat": 4,
 "nbformat_minor": 2
}
